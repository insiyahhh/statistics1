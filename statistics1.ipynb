{
  "nbformat": 4,
  "nbformat_minor": 0,
  "metadata": {
    "colab": {
      "provenance": []
    },
    "kernelspec": {
      "name": "python3",
      "display_name": "Python 3"
    },
    "language_info": {
      "name": "python"
    }
  },
  "cells": [
    {
      "cell_type": "code",
      "execution_count": null,
      "metadata": {
        "id": "Y_Mq7ZJHyqWX"
      },
      "outputs": [],
      "source": [
        "#theory"
      ]
    },
    {
      "cell_type": "markdown",
      "source": [
        "answer 1:- statistics is a mathematical science including methods of collecting ,organising , and analysing data in such a way that meaningful conclusion can be drawn from them"
      ],
      "metadata": {
        "id": "hojK1_CFzHRn"
      }
    },
    {
      "cell_type": "markdown",
      "source": [
        "answer 2:-the two main types of statistics are\n",
        "descriptive statistics and inferential statistics"
      ],
      "metadata": {
        "id": "cYAoD9DjzoZA"
      }
    },
    {
      "cell_type": "markdown",
      "source": [
        "answer 3:-it consists of organizing and summarising the complete data or population"
      ],
      "metadata": {
        "id": "SRHoz_yqz2um"
      }
    },
    {
      "cell_type": "markdown",
      "source": [
        "answer 4:-it consists of using sample data that has been measured to form conclusion about a population"
      ],
      "metadata": {
        "id": "g2jbLEV70HR_"
      }
    },
    {
      "cell_type": "markdown",
      "source": [
        "answer 5:-sampling is a method of selecting a subset from a population to calculate the data"
      ],
      "metadata": {
        "id": "zkKuiAZZ0adj"
      }
    },
    {
      "cell_type": "markdown",
      "source": [
        "answer 6;-different type of sampling methods are\n",
        "1- simple random sampling\n",
        "2- stratified sampling\n",
        "3- cluster sampling\n",
        "4- systematic sampling"
      ],
      "metadata": {
        "id": "0qNX2XBb07BO"
      }
    },
    {
      "cell_type": "markdown",
      "source": [
        "answer 7:-random sampling means every member of population has an equal chance of being selected for the sample\n",
        "non random sampling means doesnt give all the members of the population the equal chances"
      ],
      "metadata": {
        "id": "PCDBrPLY1jSi"
      }
    },
    {
      "cell_type": "markdown",
      "source": [
        "answer 8:-qualitative data is descriptive ,examples are discrete and continuous\n",
        "and qualitative data is numerical  , examples are nominal and ordinal"
      ],
      "metadata": {
        "id": "kIvu-gMe2Zp-"
      }
    },
    {
      "cell_type": "markdown",
      "source": [
        "answer 9:-the different types of data are quantitative data and qualitative data"
      ],
      "metadata": {
        "id": "B74TNW-y3GYE"
      }
    },
    {
      "cell_type": "markdown",
      "source": [
        "answer 10:-nominal: no order in categorial order naturally\n",
        "ordinal: order in data\n",
        "interval: numerical values with equal intervals but no true zero\n",
        "ratio: numerical values with equal intervals and a true zero"
      ],
      "metadata": {
        "id": "-tC-FQMm3a5V"
      }
    },
    {
      "cell_type": "markdown",
      "source": [
        "answer 11:- central tendecy represents the central point of dataset using mean , median , mode"
      ],
      "metadata": {
        "id": "sZDoArKh4GPK"
      }
    },
    {
      "cell_type": "markdown",
      "source": [
        "answer 12:- mean: the average of all values\n",
        "median: the middle value when data is sorted\n",
        "mode: the most frequently occuring value"
      ],
      "metadata": {
        "id": "snuN3fkG4Zfo"
      }
    },
    {
      "cell_type": "markdown",
      "source": [
        "answer 13:- it helps summarize a dataset into a single value, making it easier to understand and compare different datasets"
      ],
      "metadata": {
        "id": "fPSkPzCI4uQC"
      }
    },
    {
      "cell_type": "markdown",
      "source": [
        "answer 14:- variance measures how spread out numbers are from their mean\n",
        "it is calculated by averaging the squared differences from the mean"
      ],
      "metadata": {
        "id": "_W7N5C235EmY"
      }
    },
    {
      "cell_type": "markdown",
      "source": [
        "answer  15:-standard deviation is the square root of the variance showing how much individual data points from the mean\n",
        "it is important because it gives a sense of data dispersion"
      ],
      "metadata": {
        "id": "sqogpylG5lzH"
      }
    },
    {
      "cell_type": "markdown",
      "source": [
        "answer 16-range is the difference between the maximum and the minimum values in a dataset"
      ],
      "metadata": {
        "id": "iXdy9cEk6BHr"
      }
    },
    {
      "cell_type": "markdown",
      "source": [
        "answer17:- variancce is the average of squared differences from their mean while standard deviatuon is the square root of variance"
      ],
      "metadata": {
        "id": "pAx1_Mb66WMw"
      }
    },
    {
      "cell_type": "markdown",
      "source": [
        "answer18:- skewness measures the asymmetry of the probability distribution of a real valued random variable"
      ],
      "metadata": {
        "id": "GVgSm4zp6spt"
      }
    },
    {
      "cell_type": "markdown",
      "source": [
        "answer19:- positively skewed:- the tail on the right side is longer\n",
        "negatively skewed:- the tail on the left side is longer"
      ],
      "metadata": {
        "id": "-D7TeeOj68oJ"
      }
    },
    {
      "cell_type": "markdown",
      "source": [
        "answer 20:-kurtosis is a measure of the tailedness of the probabbility distribution of a real valued random variables"
      ],
      "metadata": {
        "id": "AC1cTqAB7Vtj"
      }
    },
    {
      "cell_type": "markdown",
      "source": [
        "answer 21:- covariance measures hoe much two variables change together"
      ],
      "metadata": {
        "id": "kaNnD_gv7sq5"
      }
    },
    {
      "cell_type": "markdown",
      "source": [
        "answer 22:- correlation measures the strenght and direction of a linear relationship between two variables"
      ],
      "metadata": {
        "id": "_xSnReFr72Az"
      }
    },
    {
      "cell_type": "markdown",
      "source": [
        "answer 23;- covariance shows how two variables change together but is not standardized\n",
        "correlation standardizes this measure to a value between -1 and 1 making it easy to interpret"
      ],
      "metadata": {
        "id": "bWi8zODc8Eu7"
      }
    },
    {
      "cell_type": "markdown",
      "source": [
        "answer 24;- statistics is used in medicines, business , social science ,engineering and etc."
      ],
      "metadata": {
        "id": "kC8Igojk8ktZ"
      }
    },
    {
      "cell_type": "code",
      "source": [
        "#practical answers"
      ],
      "metadata": {
        "id": "p8Gajsrq8yRI"
      },
      "execution_count": null,
      "outputs": []
    },
    {
      "cell_type": "code",
      "source": [
        "#answer 1:-\n",
        "import numpy as np\n",
        "data = [1,2,3,4,5,6,7,8,9]\n",
        "np.mean(data)\n",
        "np.median(data)\n",
        "np.mode(data)"
      ],
      "metadata": {
        "id": "AH1tiDAW82t-"
      },
      "execution_count": null,
      "outputs": []
    },
    {
      "cell_type": "code",
      "source": [
        "#answer 2:-\n",
        "import numpy as np\n",
        "data = [1,2,3,4,5,6,7,8,9]\n",
        "np.var(data)\n",
        "np.std(data)\n"
      ],
      "metadata": {
        "id": "Ezibsh5g9gpx"
      },
      "execution_count": null,
      "outputs": []
    },
    {
      "cell_type": "code",
      "source": [
        "#answer3:-\n",
        "import pandas as pd\n",
        "data = {\n",
        "    'nominal':['apple','banana','mango'],\n",
        "    'ordinal':['low','medium','high'],\n",
        "    'interval':['10','20','30'],\n",
        "    'ratio':['100','200','300\n",
        "}\n",
        "df = pd.DataFrame(data)\n",
        "df.describe()"
      ],
      "metadata": {
        "id": "uALbmaQz90lR"
      },
      "execution_count": null,
      "outputs": []
    },
    {
      "cell_type": "code",
      "source": [
        "#answer4:-\n",
        "import pandas as pd\n",
        "import numpy as np\n",
        "data = {\n",
        "    'category': ['A','B','C','A','B','C'],\n",
        "    'values': [10,15,12,8,14,18\n",
        "}\n",
        "df = pd.DataFrame(data)\n",
        "random_sample = df.sample(n=2)\n",
        "print(random_sample)\n",
        "stratified_sample = df.groupby('category').apply(lambda x: x.sample(n=1))\n",
        "print(stratified_sample)"
      ],
      "metadata": {
        "id": "4z_1N091-QSx"
      },
      "execution_count": null,
      "outputs": []
    },
    {
      "cell_type": "code",
      "source": [
        "#answer 5-\n",
        "import numpy as np\n",
        "def calculate_range(data):\n",
        "  return np.max(data) - np.min(data)\n",
        "data = [1,2,3,4,5,6,7,8,9]\n",
        "print(\"range: \"calculate_range(data))"
      ],
      "metadata": {
        "id": "8-KVksji-sVY"
      },
      "execution_count": null,
      "outputs": []
    },
    {
      "cell_type": "code",
      "source": [
        "#answer 6:-\n",
        "import numpy as np\n",
        "import matplotlib.pyplot as plt\n",
        "data = np.random.normal(0,1,1000)\n",
        "plt.hist(data, bins=30)\n",
        "plt.title('histogram of normal distribution')\n",
        "plt.xlabel('value')\n",
        "plt.ylabel('frequency')\n",
        "plt.show()"
      ],
      "metadata": {
        "id": "G4MV-TbZ_C4i"
      },
      "execution_count": null,
      "outputs": []
    },
    {
      "cell_type": "code",
      "source": [
        "#answer 7:-\n",
        "import mumpy as np\n",
        "from scipy import stats\n",
        "data = np.random.normal(0, 1 1000)\n",
        "skewness = stats.skew(data)\n",
        "print(skewness)\n",
        "kurtosis = stats.kurtosis(data)\n",
        "print(kurtosis)"
      ],
      "metadata": {
        "id": "4jMMRsQ0_dD3"
      },
      "execution_count": null,
      "outputs": []
    },
    {
      "cell_type": "code",
      "source": [
        "#answer 8:-\n",
        "import numpy as np\n",
        "import matplotlib.pyplot as plt\n",
        "positiveskewdata = np.random.normal(1,1000)\n",
        "negativeskewdata = np.random.normal(1,1000)\n",
        "plt.figure(figsize=(10,5))\n",
        "plt.subplot(1,2,1)\n",
        "plt.hist(positiveskewdata)\n"
      ],
      "metadata": {
        "id": "R5nCY_0y_zXI"
      },
      "execution_count": null,
      "outputs": []
    },
    {
      "cell_type": "code",
      "source": [
        "#answer 9:-\n",
        "import numpy as np\n",
        "dataset1 = np.array([1,2,3,4,5])\n",
        "dataset2 = np.array([2,4,6,8,10])\n",
        "covariance = np.cov(dataset1,dataset2)\n",
        "print(covariance)"
      ],
      "metadata": {
        "id": "mVr1QCYqAS3d"
      },
      "execution_count": null,
      "outputs": []
    },
    {
      "cell_type": "code",
      "source": [
        "#answr10:-\n",
        "import numpy as np\n",
        "dataset1 = np.array([1,2,3,4,5])\n",
        "dataset2 = np.array([2,3,5,7,11])\n",
        "correlation_coefficient = np.corrcoef(dataset1,dataset2)[0,1]\n",
        "print(correlation_coefficient)"
      ],
      "metadata": {
        "id": "z57FRw7yA0RJ"
      },
      "execution_count": null,
      "outputs": []
    },
    {
      "cell_type": "code",
      "source": [
        "#answer11:-\n",
        "import matplotlib.pyplot as ply\n",
        "import numpy as np\n",
        "variable1 = np.array([1,2,3,4,5])\n",
        "variable2 = np.array([2,4,6,8,10])\n",
        "plt.scatter(variable1,variable2)\n",
        "plt.xlabel('variable1')\n",
        "plt.ylabel('variable2')\n",
        "plt.title('scatter plot of variable1 and variable2')\n",
        "plt.show()"
      ],
      "metadata": {
        "id": "XeGt3G0fBOdJ"
      },
      "execution_count": null,
      "outputs": []
    },
    {
      "cell_type": "code",
      "source": [
        "#answwr12:-\n",
        "import numpy as np\n",
        "import random\n",
        "populaton = np.arrange(1,101)\n",
        "simple_random_sample = random.sample(population.tolist(),10)\n",
        "print(simple_random_sample)\n",
        "systemaic_sample = population[::10]\n",
        "print(systemaic_sample)"
      ],
      "metadata": {
        "id": "cw2JJ5OSBkoK"
      },
      "execution_count": null,
      "outputs": []
    },
    {
      "cell_type": "code",
      "source": [
        "#answer13:-\n",
        "import numpy as np\n",
        "from scipy import stats\n",
        "data = np.array([1,2,2,3,3,3,4,4,4,4])\n",
        "mean = np.mean(data)\n",
        "median = np.median(data)\n",
        "mode = stats.mode(data)\n"
      ],
      "metadata": {
        "id": "_hBqeGiAB6t1"
      },
      "execution_count": null,
      "outputs": []
    },
    {
      "cell_type": "code",
      "source": [
        "#answer 14:-\n",
        "import numpy as np\n",
        "data = np.random.randn(100)\n",
        "mean = np.mean(data)\n",
        "median = np.median(data)\n",
        "mode = stats.mode(data)\n",
        "print(\"mean: \",mean)\n",
        "print(\"median: \",median)\n",
        "print(\"mode: \",mode)\n",
        "variance = np.var(data)\n",
        "std = np.std(data)\n",
        "range = np.max(data)-np.min(data)\n",
        "print(\"variance: \",variance)\n",
        "print(\"standard deviation: \",std)\n",
        "print(\"range: \",range)"
      ],
      "metadata": {
        "id": "gdBwvy6QCULs"
      },
      "execution_count": null,
      "outputs": []
    },
    {
      "cell_type": "code",
      "source": [
        "#answer 15:-\n",
        "import pandas as pd\n",
        "data = pd.DataFrame({\n",
        "    'A': [1,2,3,4,5],\n",
        "    'B': [6,7,8,9,10]\n",
        "})\n",
        "print(data.describe())"
      ],
      "metadata": {
        "id": "YfYnsx75DH7c"
      },
      "execution_count": null,
      "outputs": []
    },
    {
      "cell_type": "code",
      "source": [
        "#answer16:-\n",
        "import matplotlib.pyplot as plt\n",
        "data = [1,2,3,4,5,6,7,8,9]\n",
        "plt.boxplot(data)\n",
        "plt.show()"
      ],
      "metadata": {
        "id": "_HJ0mW3YDtHm"
      },
      "execution_count": null,
      "outputs": []
    },
    {
      "cell_type": "code",
      "source": [
        "#answer 17:-\n",
        "import numpy as np\n",
        "Q1 =np.percentile(data,25)\n",
        "Q3 = np.percentile(data,75)\n",
        "IQR = Q3 - Q1\n",
        "print(\"IQR: \",IQR)"
      ],
      "metadata": {
        "id": "GqE76lNXD4_P"
      },
      "execution_count": null,
      "outputs": []
    },
    {
      "cell_type": "code",
      "source": [
        "#answer 18:-\n",
        "import numpy as np\n",
        "data = np.random.randn(50)\n",
        "mean = np.mean(data)\n",
        "std = np.std(data)\n",
        "z_scores = (data-mean)/std\n",
        "print(z_scores)"
      ],
      "metadata": {
        "id": "CvHxd1U3EJXG"
      },
      "execution_count": null,
      "outputs": []
    },
    {
      "cell_type": "code",
      "source": [
        "#answer19-\n",
        "import numpy as np\n",
        "data1 = [1,2,3,4,5]\n",
        "data2 = [6,7,8,9,10]\n",
        "std1 = np.std(data1)\n",
        "std2 = np.std(data2)\n",
        "print(\"standard deviation of data1: \",std1)\n",
        "print(\"standard deviation of data2: \",std2)"
      ],
      "metadata": {
        "id": "k3Wxgm7REbRT"
      },
      "execution_count": null,
      "outputs": []
    },
    {
      "cell_type": "code",
      "source": [
        "#answwer20 :-\n",
        "import seaborn as sns\n",
        "import matplotlib.pyplot as plt\n",
        "import numpy as np\n",
        "data = [1,2,3,4,5,6,7,8,9]\n",
        "cov_matrix = data.cov()\n",
        "sns.heatmap(cov_matrix,annot=True)\n",
        "plt.show()\n"
      ],
      "metadata": {
        "id": "zRjJpsLcE4-1"
      },
      "execution_count": null,
      "outputs": []
    },
    {
      "cell_type": "code",
      "source": [
        "#answer 21:-\n",
        "import seaborn as sns\n",
        "import matplotlib.pyplot as plt\n",
        "\n",
        "data = [1,2,3,4,5]\n",
        "corr_matrix = data.corr()\n",
        "plt.figure(figsize=(5,5))\n",
        "sns.heatmap(corr_matrix,annot=True)\n",
        "plt.show()"
      ],
      "metadata": {
        "id": "zTxvcVq1FfEf"
      },
      "execution_count": null,
      "outputs": []
    },
    {
      "cell_type": "code",
      "source": [
        "#answer 22:-\n",
        "import numpy as np\n",
        "data = np.random.randint(1,100,10)\n",
        "variance = np.var(data)\n",
        "std = np.std(data)\n",
        "print(\"variance: \",variance)\n",
        "print(\"standard deviation: \",std)"
      ],
      "metadata": {
        "id": "OtPnw0RrFwov"
      },
      "execution_count": null,
      "outputs": []
    },
    {
      "cell_type": "code",
      "source": [
        "#answer23 :-\n",
        "import matplotlib.pyplot as plt\n",
        "import seaborn as sns\n",
        "from scipt import stats\n",
        "data = [1,2,3,4,5]\n",
        "skewness = stats.skew(data)\n",
        "kurtosis = stats.kurtosis(data)\n",
        "sns.histplot(data, kde=true)\n",
        "plt.title(\"histogram with kde\")\n",
        "plt.show()"
      ],
      "metadata": {
        "id": "JQtm0I3iGCog"
      },
      "execution_count": null,
      "outputs": []
    },
    {
      "cell_type": "code",
      "source": [
        "#answer 24:-\n",
        "import numpy as np\n",
        "from scipy.stats import pearsonr,spearmanr\n",
        "data1 = [1,2,3,4,5]\n",
        "data2 = [6,7,8,9,10]\n",
        "pearson_corr, _ = pearsonr(data1,data2)\n",
        "spearman_corr, _ = spearmanr(data1,data2)\n",
        "print(\"pearson correlation: \",pearson_corr)\n",
        "print(\"spearman correlation: \",spearman_corr)"
      ],
      "metadata": {
        "id": "QrZ-EtCzGyJs"
      },
      "execution_count": null,
      "outputs": []
    }
  ]
}